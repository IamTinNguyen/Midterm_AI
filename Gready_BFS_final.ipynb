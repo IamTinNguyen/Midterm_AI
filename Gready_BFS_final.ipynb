{
  "nbformat": 4,
  "nbformat_minor": 0,
  "metadata": {
    "colab": {
      "name": "Gready_BFS_final.ipynb",
      "provenance": [],
      "collapsed_sections": []
    },
    "kernelspec": {
      "name": "python3",
      "display_name": "Python 3"
    },
    "language_info": {
      "name": "python"
    }
  },
  "cells": [
    {
      "cell_type": "code",
      "metadata": {
        "id": "msxG0OMIaWrQ"
      },
      "source": [
        "# Nguyen Trung Tin - 51900640\n",
        "'''Hàm đọc graph.txt + build graph'''\n",
        "def build_graph(file):\n",
        "\n",
        "  # Chuyển dữ liệu từ file txt sang dictionary\n",
        "    graph = {}\n",
        "    for line in file:\n",
        "        v1, v2, w = line.split(',')\n",
        "        v1 = v1.strip()\n",
        "        v2 = v2.strip()\n",
        "        w = int(w.strip())\n",
        "        if v1 not in graph:  \n",
        "            graph[v1] = []\n",
        "        if v2 not in graph:  \n",
        "            graph[v2] = []\n",
        "        graph[v1].append([v2,w])\n",
        "        graph[v2].append([v1,w])\n",
        "    return graph\n",
        "with open('Graph.txt', 'r') as file:\n",
        "    lines = file.readlines()\n",
        "\n",
        "start = lines[1].strip() # Line 1 sẽ là điểm bắt đầu\n",
        "\n",
        "dest = lines[2].strip()  # Line 2 sẽ là điểm đến \n",
        "graph = build_graph(lines[4:])  # Khoảng cách giữa 2 điểm sẽ từ line 4 trở đi \n",
        "\n",
        "# print(graph)"
      ],
      "execution_count": 13,
      "outputs": []
    },
    {
      "cell_type": "code",
      "metadata": {
        "id": "_QvKFsR3afLg"
      },
      "source": [
        "'''Hàm đọc heuristic.txt và build heuristic '''\n",
        "def build_heuristic():\n",
        "    h = {}\n",
        "    with open(\"Heuristic.txt\", 'r') as file:\n",
        "        for line in file:\n",
        "            line = line.strip().split(\",\")\n",
        "            node = line[0].strip()\n",
        "            sld = int(line[1].strip())\n",
        "            h[node] = sld\n",
        "    return h\n",
        "\n",
        "heuristic = build_heuristic()\n",
        "\n",
        "# for key,value in h.items():\n",
        "# \tprint(key, ':', value)"
      ],
      "execution_count": 14,
      "outputs": []
    },
    {
      "cell_type": "code",
      "metadata": {
        "colab": {
          "base_uri": "https://localhost:8080/"
        },
        "id": "56yYMEhqg06C",
        "outputId": "e853897c-46ce-4a14-9f5f-f4289fa46d49"
      },
      "source": [
        "cost = {start: 0}             # cost là tổng weight của mỗi cạnh từ điểm bắt đầu đến điểm đó\n",
        "\n",
        "\n",
        "def GBFS():\n",
        "    global graph, heuristic\n",
        "    closed = []             # closed nodes\n",
        "    opened = [[start, 366]]     # opened nodes\n",
        "    \n",
        "\n",
        "    '''A star Search'''\n",
        "    while True:\n",
        "        fn = [i[1] for i in opened]     \n",
        "        chosen_index = fn.index(min(fn))\n",
        "        node = opened[chosen_index][0]  # current node\n",
        "        \n",
        "        closed.append(opened[chosen_index])\n",
        "        \n",
        "        if closed[-1][0] == dest:        # dừng vòng lặp tới khi tìm được đích đến (Bucharest)\n",
        "            break\n",
        "        del opened[chosen_index]\n",
        "        for neighbor in graph[node]:\n",
        "            \n",
        "            if neighbor[0] not in [closed_item[0] for closed_item in closed]: \n",
        "              costTmp = cost[node] + neighbor[1]\n",
        "              if neighbor[0] in [opened_item[0] for opened_item in opened]:\n",
        "              # Nếu node nằm trong opened lại có cost mới thấp hơn thì thay thế bằng cost mới. \n",
        "                if costTmp < cost[neighbor[0]]:\n",
        "                  cost.update({neighbor[0]: costTmp})  \n",
        "              else: \n",
        "                  cost.update({neighbor[0]: costTmp})\n",
        "\n",
        "              fn_node = heuristic[neighbor[0]] # fn = f(n) =  h(n)\n",
        "              opened.append([neighbor[0], fn_node])  \n",
        "        \n",
        "    '''find optimal path'''\n",
        "    trace_node = dest                        \n",
        "    path_result = [dest]               \n",
        "\n",
        "    for i in range(len(closed)-2, -1, -1):\n",
        "        check_node = closed[i][0]           # current node\n",
        "        if trace_node in [children[0] for children in graph[check_node]]:\n",
        "            children_costs = [temp[1] for temp in graph[check_node]]\n",
        "            children_nodes = [temp[0] for temp in graph[check_node]]\n",
        "         \n",
        "            \n",
        "            # Tìm nếu cost của Node  + cost của Node_Neighbor = cost đích \n",
        "            # thì Node_Neighbor nằm trong đường đi chính xác. \n",
        "\n",
        "            if cost[check_node] + children_costs[children_nodes.index(trace_node)] == cost[trace_node]:\n",
        "                path_result.append(check_node)\n",
        "                trace_node = check_node\n",
        "    path_result.reverse()              # reverse the optimal sequence\n",
        "\n",
        "    return closed, path_result\n",
        "\n",
        "\n",
        "if __name__ == '__main__':\n",
        "    visited_nodes, optimal_nodes = GBFS()\n",
        "    print('visited nodes: ' + str(visited_nodes))\n",
        "    print('optimal nodes sequence: ' + str(optimal_nodes))"
      ],
      "execution_count": 15,
      "outputs": [
        {
          "output_type": "stream",
          "name": "stdout",
          "text": [
            "visited nodes: [['Oradea', 366], ['Sibiu', 253], ['Fagaras', 176], ['Bucharest', 0]]\n",
            "optimal nodes sequence: ['Oradea', 'Sibiu', 'Fagaras', 'Bucharest']\n"
          ]
        }
      ]
    },
    {
      "cell_type": "code",
      "metadata": {
        "id": "S-XcuLDZhDCT"
      },
      "source": [
        ""
      ],
      "execution_count": 12,
      "outputs": []
    }
  ]
}