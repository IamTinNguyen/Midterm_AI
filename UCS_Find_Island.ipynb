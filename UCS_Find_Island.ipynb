{
  "nbformat": 4,
  "nbformat_minor": 0,
  "metadata": {
    "colab": {
      "name": "UCS_Find_Island.ipynb",
      "provenance": [],
      "collapsed_sections": []
    },
    "kernelspec": {
      "name": "python3",
      "display_name": "Python 3"
    },
    "language_info": {
      "name": "python"
    }
  },
  "cells": [
    {
      "cell_type": "code",
      "metadata": {
        "id": "eUL8FPfUR4ax"
      },
      "source": [
        "# Nguyen Trung Tin - 51900640\n",
        "def sortQueue(queue, cost):\n",
        "  marklist = sorted((value, key) for (key,value) in cost.items())\n",
        "  sortdict = dict([(k,v) for v,k in marklist])\n",
        "  results = []\n",
        "  for i in sortdict: \n",
        "\n",
        "    if [i[0],i[1]] in queue: \n",
        "      results.append([i[0],i[1]])\n",
        "  return results\n",
        "class Graph:\n",
        "  def __init__(self, row, col, g):\n",
        "    self.ROW = row\n",
        "    self.COL = col\n",
        "    self.graph = g\n",
        "\n",
        "\n",
        "\n",
        "\n",
        "  def UCS(self, i, j):\n",
        "    queue = []\n",
        "    queue.append([i,j])\n",
        "    self.graph[i][j] = -1\n",
        "    rowNbr = [-1, -1, -1, 0, 0, 1, 1, 1]\n",
        "    colNbr = [-1, 0, 1, -1, 1, -1, 0, 1] \n",
        "    cost = {(i,j):0}\n",
        "\n",
        "    while queue: \n",
        "      queue = sortQueue(queue, cost)\n",
        "      s = queue.pop(0)\n",
        "      for k in range(8):\n",
        "        if s[0]+rowNbr[k] >= 0 and s[0]+rowNbr[k] < self.ROW and s[1]+colNbr[k] >=0 and s[1]+colNbr[k] < self.COL and self.graph[s[0]+rowNbr[k]][s[1]+colNbr[k]] == 1:\n",
        "          cost.update({(s[0]+rowNbr[k], s[1]+colNbr[k]): cost[(s[0],s[1])] + 1})  \n",
        "          self.graph[s[0]+rowNbr[k]][s[1]+colNbr[k]] = -1\n",
        "          queue.append([s[0]+rowNbr[k],s[1]+colNbr[k]])\n",
        "\n",
        "\n",
        "\n",
        "  def countIslands(self):\n",
        "   \n",
        "\n",
        "    count = 0\n",
        "    for i in range(self.ROW):\n",
        "      for j in range(self.COL):\n",
        "        if self.graph[i][j] == 1:\n",
        "          self.UCS(i, j)\n",
        "          count += 1\n",
        "\n",
        "    return count\n",
        "\n",
        "\n",
        "\n",
        "\n"
      ],
      "execution_count": null,
      "outputs": []
    },
    {
      "cell_type": "code",
      "metadata": {
        "colab": {
          "base_uri": "https://localhost:8080/",
          "height": 236
        },
        "id": "SHuHVV6-SZWn",
        "outputId": "8a11f1fb-93cf-4faa-b325-95073fd48855"
      },
      "source": [
        "import os  \n",
        "# Folder Path\n",
        "path = \"/content/data\"\n",
        "\n",
        "os.chdir(path)\n",
        "def read_text_file(file_path):\n",
        "  with open(file_path, 'r') as f:\n",
        "    graph = [[int(num) for num in line.split()] for line in f]\n",
        "    return graph\n",
        "\n",
        "for file in os.listdir():\n",
        "  if file.endswith(\".txt\"):\n",
        "      file_path = f\"{path}/{file}\"\n",
        "      graph = read_text_file(file_path)\n",
        "      \n",
        "      row = len(graph)\n",
        "      col = len(graph[0])\n",
        "\n",
        "      g = Graph(row, col, graph)\n",
        "\n",
        "      print (file,\": \", g.countIslands())\n",
        "      \n",
        "      \n",
        "\n",
        "\n"
      ],
      "execution_count": null,
      "outputs": [
        {
          "output_type": "error",
          "ename": "FileNotFoundError",
          "evalue": "ignored",
          "traceback": [
            "\u001b[0;31m---------------------------------------------------------------------------\u001b[0m",
            "\u001b[0;31mFileNotFoundError\u001b[0m                         Traceback (most recent call last)",
            "\u001b[0;32m<ipython-input-2-f7e327cdd596>\u001b[0m in \u001b[0;36m<module>\u001b[0;34m()\u001b[0m\n\u001b[1;32m      3\u001b[0m \u001b[0mpath\u001b[0m \u001b[0;34m=\u001b[0m \u001b[0;34m\"/content/data\"\u001b[0m\u001b[0;34m\u001b[0m\u001b[0;34m\u001b[0m\u001b[0m\n\u001b[1;32m      4\u001b[0m \u001b[0;34m\u001b[0m\u001b[0m\n\u001b[0;32m----> 5\u001b[0;31m \u001b[0mos\u001b[0m\u001b[0;34m.\u001b[0m\u001b[0mchdir\u001b[0m\u001b[0;34m(\u001b[0m\u001b[0mpath\u001b[0m\u001b[0;34m)\u001b[0m\u001b[0;34m\u001b[0m\u001b[0;34m\u001b[0m\u001b[0m\n\u001b[0m\u001b[1;32m      6\u001b[0m \u001b[0;32mdef\u001b[0m \u001b[0mread_text_file\u001b[0m\u001b[0;34m(\u001b[0m\u001b[0mfile_path\u001b[0m\u001b[0;34m)\u001b[0m\u001b[0;34m:\u001b[0m\u001b[0;34m\u001b[0m\u001b[0;34m\u001b[0m\u001b[0m\n\u001b[1;32m      7\u001b[0m   \u001b[0;32mwith\u001b[0m \u001b[0mopen\u001b[0m\u001b[0;34m(\u001b[0m\u001b[0mfile_path\u001b[0m\u001b[0;34m,\u001b[0m \u001b[0;34m'r'\u001b[0m\u001b[0;34m)\u001b[0m \u001b[0;32mas\u001b[0m \u001b[0mf\u001b[0m\u001b[0;34m:\u001b[0m\u001b[0;34m\u001b[0m\u001b[0;34m\u001b[0m\u001b[0m\n",
            "\u001b[0;31mFileNotFoundError\u001b[0m: [Errno 2] No such file or directory: '/content/data'"
          ]
        }
      ]
    },
    {
      "cell_type": "code",
      "metadata": {
        "id": "4MX5kBz2SaPP"
      },
      "source": [
        ""
      ],
      "execution_count": null,
      "outputs": []
    }
  ]
}