{
  "nbformat": 4,
  "nbformat_minor": 0,
  "metadata": {
    "colab": {
      "name": "BFS_Find_Island",
      "provenance": []
    },
    "kernelspec": {
      "name": "python3",
      "display_name": "Python 3"
    },
    "language_info": {
      "name": "python"
    }
  },
  "cells": [
    {
      "cell_type": "code",
      "metadata": {
        "id": "wO807tUog9er"
      },
      "source": [
        "# Nguyen Trung Tin - 51900640\n",
        "class Graph:\n",
        "  def __init__(self, row, col, g):\n",
        "    self.ROW = row\n",
        "    self.COL = col\n",
        "    self.graph = g\n",
        "\n",
        "  # BFS \n",
        "  def BFS(self, i, j):\n",
        "    queue = []\n",
        "    queue.append([i,j])\n",
        "    self.graph[i][j] = -1\n",
        "    # Toa do x,y cua 8 Node gan Current Node\n",
        "    rowNbr = [-1, -1, -1, 0, 0, 1, 1, 1]\n",
        "    colNbr = [-1, 0, 1, -1, 1, -1, 0, 1] \n",
        "\n",
        "    while queue: \n",
        "      s = queue.pop(0)\n",
        "      for k in range(8):\n",
        "        if s[0]+rowNbr[k] >= 0 and s[0]+rowNbr[k] < self.ROW and s[1]+colNbr[k] >=0 and s[1]+colNbr[k] < self.COL and self.graph[s[0]+rowNbr[k]][s[1]+colNbr[k]] == 1:\n",
        "          self.graph[s[0]+rowNbr[k]][s[1]+colNbr[k]] = -1\n",
        "          queue.append([s[0]+rowNbr[k],s[1]+colNbr[k]])\n",
        "  # Hàm đếm island\n",
        "  def countIslands(self):\n",
        "   \n",
        "\n",
        "    count = 0\n",
        "    for i in range(self.ROW):\n",
        "      for j in range(self.COL):\n",
        "        if self.graph[i][j] == 1:\n",
        "          self.BFS(i, j)\n",
        "          count += 1\n",
        "\n",
        "    return count\n",
        "\n",
        "\n",
        "\n",
        "\n",
        "\n"
      ],
      "execution_count": 29,
      "outputs": []
    },
    {
      "cell_type": "code",
      "metadata": {
        "colab": {
          "base_uri": "https://localhost:8080/"
        },
        "id": "19R7PH9rj9iX",
        "outputId": "fa163071-251c-42c7-bf6d-f09974078e03"
      },
      "source": [
        "import os  \n",
        "# Folder Path\n",
        "path = \"/content/data\"\n",
        "\n",
        "os.chdir(path)\n",
        "def read_text_file(file_path):\n",
        "  with open(file_path, 'r') as f:\n",
        "    graph = [[int(num) for num in line.split()] for line in f]\n",
        "    return graph\n",
        "\n",
        "for file in os.listdir():\n",
        "  if file.endswith(\".txt\"):\n",
        "      file_path = f\"{path}/{file}\"\n",
        "      graph = read_text_file(file_path)\n",
        "      \n",
        "      row = len(graph)\n",
        "      col = len(graph[0])\n",
        "\n",
        "      g = Graph(row, col, graph)\n",
        "\n",
        "      print (file,\": \", g.countIslands())\n",
        "      \n",
        "      \n",
        "\n",
        "\n"
      ],
      "execution_count": 30,
      "outputs": [
        {
          "output_type": "stream",
          "name": "stdout",
          "text": [
            "test1.txt :  6\n",
            "test0.txt :  5\n",
            "test2.txt :  3\n"
          ]
        }
      ]
    }
  ]
}